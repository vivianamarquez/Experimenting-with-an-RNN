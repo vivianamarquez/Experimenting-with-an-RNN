{
 "cells": [
  {
   "cell_type": "code",
   "execution_count": 1,
   "metadata": {},
   "outputs": [],
   "source": [
    "import tweepy\n",
    "import json\n",
    "import pandas as pd\n",
    "import re"
   ]
  },
  {
   "cell_type": "code",
   "execution_count": 2,
   "metadata": {},
   "outputs": [],
   "source": [
    "with open(\"TwitterAPI.txt\", \"r\") as file:\n",
    "    keys = json.load(file)"
   ]
  },
  {
   "cell_type": "code",
   "execution_count": 3,
   "metadata": {},
   "outputs": [],
   "source": [
    "auth = tweepy.OAuthHandler(keys['API Key'], keys['API secret key'])\n",
    "auth.set_access_token(keys['Access token'], keys['Access token secret'])\n",
    "\n",
    "api = tweepy.API(auth)"
   ]
  },
  {
   "cell_type": "code",
   "execution_count": 23,
   "metadata": {},
   "outputs": [
    {
     "data": {
      "text/plain": [
       "Status(_api=<tweepy.api.API object at 0x0000022DCF3B6208>, _json={'created_at': 'Thu Nov 14 21:12:48 +0000 2019', 'id': 1195087205426970624, 'id_str': '1195087205426970624', 'text': 'So now I see the disaster and we will pay for the wall – and I’m like I do. They’re great people.', 'truncated': False, 'entities': {'hashtags': [], 'symbols': [], 'user_mentions': [], 'urls': []}, 'source': '<a href=\"https://github.com/andrewts129/donald-trump-bot\" rel=\"nofollow\">TwitterBot_Z</a>', 'in_reply_to_status_id': None, 'in_reply_to_status_id_str': None, 'in_reply_to_user_id': None, 'in_reply_to_user_id_str': None, 'in_reply_to_screen_name': None, 'user': {'id': 1176927224802480130, 'id_str': '1176927224802480130', 'name': 'Anna', 'screen_name': 'annaatthez', 'location': '', 'description': '', 'url': None, 'entities': {'description': {'urls': []}}, 'protected': False, 'followers_count': 0, 'friends_count': 0, 'listed_count': 0, 'created_at': 'Wed Sep 25 18:31:39 +0000 2019', 'favourites_count': 24, 'utc_offset': None, 'time_zone': None, 'geo_enabled': False, 'verified': False, 'statuses_count': 12, 'lang': None, 'contributors_enabled': False, 'is_translator': False, 'is_translation_enabled': False, 'profile_background_color': 'F5F8FA', 'profile_background_image_url': None, 'profile_background_image_url_https': None, 'profile_background_tile': False, 'profile_image_url': 'http://abs.twimg.com/sticky/default_profile_images/default_profile_normal.png', 'profile_image_url_https': 'https://abs.twimg.com/sticky/default_profile_images/default_profile_normal.png', 'profile_link_color': '1DA1F2', 'profile_sidebar_border_color': 'C0DEED', 'profile_sidebar_fill_color': 'DDEEF6', 'profile_text_color': '333333', 'profile_use_background_image': True, 'has_extended_profile': True, 'default_profile': True, 'default_profile_image': True, 'can_media_tag': True, 'followed_by': False, 'following': False, 'follow_request_sent': False, 'notifications': False, 'translator_type': 'none'}, 'geo': None, 'coordinates': None, 'place': None, 'contributors': None, 'is_quote_status': False, 'retweet_count': 0, 'favorite_count': 0, 'favorited': False, 'retweeted': False, 'lang': 'en'}, created_at=datetime.datetime(2019, 11, 14, 21, 12, 48), id=1195087205426970624, id_str='1195087205426970624', text='So now I see the disaster and we will pay for the wall – and I’m like I do. They’re great people.', truncated=False, entities={'hashtags': [], 'symbols': [], 'user_mentions': [], 'urls': []}, source='TwitterBot_Z', source_url='https://github.com/andrewts129/donald-trump-bot', in_reply_to_status_id=None, in_reply_to_status_id_str=None, in_reply_to_user_id=None, in_reply_to_user_id_str=None, in_reply_to_screen_name=None, author=User(_api=<tweepy.api.API object at 0x0000022DCF3B6208>, _json={'id': 1176927224802480130, 'id_str': '1176927224802480130', 'name': 'Anna', 'screen_name': 'annaatthez', 'location': '', 'description': '', 'url': None, 'entities': {'description': {'urls': []}}, 'protected': False, 'followers_count': 0, 'friends_count': 0, 'listed_count': 0, 'created_at': 'Wed Sep 25 18:31:39 +0000 2019', 'favourites_count': 24, 'utc_offset': None, 'time_zone': None, 'geo_enabled': False, 'verified': False, 'statuses_count': 12, 'lang': None, 'contributors_enabled': False, 'is_translator': False, 'is_translation_enabled': False, 'profile_background_color': 'F5F8FA', 'profile_background_image_url': None, 'profile_background_image_url_https': None, 'profile_background_tile': False, 'profile_image_url': 'http://abs.twimg.com/sticky/default_profile_images/default_profile_normal.png', 'profile_image_url_https': 'https://abs.twimg.com/sticky/default_profile_images/default_profile_normal.png', 'profile_link_color': '1DA1F2', 'profile_sidebar_border_color': 'C0DEED', 'profile_sidebar_fill_color': 'DDEEF6', 'profile_text_color': '333333', 'profile_use_background_image': True, 'has_extended_profile': True, 'default_profile': True, 'default_profile_image': True, 'can_media_tag': True, 'followed_by': False, 'following': False, 'follow_request_sent': False, 'notifications': False, 'translator_type': 'none'}, id=1176927224802480130, id_str='1176927224802480130', name='Anna', screen_name='annaatthez', location='', description='', url=None, entities={'description': {'urls': []}}, protected=False, followers_count=0, friends_count=0, listed_count=0, created_at=datetime.datetime(2019, 9, 25, 18, 31, 39), favourites_count=24, utc_offset=None, time_zone=None, geo_enabled=False, verified=False, statuses_count=12, lang=None, contributors_enabled=False, is_translator=False, is_translation_enabled=False, profile_background_color='F5F8FA', profile_background_image_url=None, profile_background_image_url_https=None, profile_background_tile=False, profile_image_url='http://abs.twimg.com/sticky/default_profile_images/default_profile_normal.png', profile_image_url_https='https://abs.twimg.com/sticky/default_profile_images/default_profile_normal.png', profile_link_color='1DA1F2', profile_sidebar_border_color='C0DEED', profile_sidebar_fill_color='DDEEF6', profile_text_color='333333', profile_use_background_image=True, has_extended_profile=True, default_profile=True, default_profile_image=True, can_media_tag=True, followed_by=False, following=False, follow_request_sent=False, notifications=False, translator_type='none'), user=User(_api=<tweepy.api.API object at 0x0000022DCF3B6208>, _json={'id': 1176927224802480130, 'id_str': '1176927224802480130', 'name': 'Anna', 'screen_name': 'annaatthez', 'location': '', 'description': '', 'url': None, 'entities': {'description': {'urls': []}}, 'protected': False, 'followers_count': 0, 'friends_count': 0, 'listed_count': 0, 'created_at': 'Wed Sep 25 18:31:39 +0000 2019', 'favourites_count': 24, 'utc_offset': None, 'time_zone': None, 'geo_enabled': False, 'verified': False, 'statuses_count': 12, 'lang': None, 'contributors_enabled': False, 'is_translator': False, 'is_translation_enabled': False, 'profile_background_color': 'F5F8FA', 'profile_background_image_url': None, 'profile_background_image_url_https': None, 'profile_background_tile': False, 'profile_image_url': 'http://abs.twimg.com/sticky/default_profile_images/default_profile_normal.png', 'profile_image_url_https': 'https://abs.twimg.com/sticky/default_profile_images/default_profile_normal.png', 'profile_link_color': '1DA1F2', 'profile_sidebar_border_color': 'C0DEED', 'profile_sidebar_fill_color': 'DDEEF6', 'profile_text_color': '333333', 'profile_use_background_image': True, 'has_extended_profile': True, 'default_profile': True, 'default_profile_image': True, 'can_media_tag': True, 'followed_by': False, 'following': False, 'follow_request_sent': False, 'notifications': False, 'translator_type': 'none'}, id=1176927224802480130, id_str='1176927224802480130', name='Anna', screen_name='annaatthez', location='', description='', url=None, entities={'description': {'urls': []}}, protected=False, followers_count=0, friends_count=0, listed_count=0, created_at=datetime.datetime(2019, 9, 25, 18, 31, 39), favourites_count=24, utc_offset=None, time_zone=None, geo_enabled=False, verified=False, statuses_count=12, lang=None, contributors_enabled=False, is_translator=False, is_translation_enabled=False, profile_background_color='F5F8FA', profile_background_image_url=None, profile_background_image_url_https=None, profile_background_tile=False, profile_image_url='http://abs.twimg.com/sticky/default_profile_images/default_profile_normal.png', profile_image_url_https='https://abs.twimg.com/sticky/default_profile_images/default_profile_normal.png', profile_link_color='1DA1F2', profile_sidebar_border_color='C0DEED', profile_sidebar_fill_color='DDEEF6', profile_text_color='333333', profile_use_background_image=True, has_extended_profile=True, default_profile=True, default_profile_image=True, can_media_tag=True, followed_by=False, following=False, follow_request_sent=False, notifications=False, translator_type='none'), geo=None, coordinates=None, place=None, contributors=None, is_quote_status=False, retweet_count=0, favorite_count=0, favorited=False, retweeted=False, lang='en')"
      ]
     },
     "execution_count": 23,
     "metadata": {},
     "output_type": "execute_result"
    }
   ],
   "source": [
    "api.update_status('So now I see the disaster and we will pay for the wall – and I’m like I do. They’re great people.')"
   ]
  },
  {
   "cell_type": "code",
   "execution_count": 22,
   "metadata": {},
   "outputs": [
    {
     "name": "stdout",
     "output_type": "stream",
     "text": [
      "RT @rashtrapatibhvn: Sad to hear of the passing of Dr Vashishtha Narayan Singh, a mathematics genius and a scholar of great repute. Condole…\n",
      "2019-11-14 16:50:54\n",
      "310\n",
      "Satyam Singh\n",
      "Patna, India\n",
      "en\n",
      "recent\n",
      "Twitter for Android\n",
      "\n",
      "RT @SurajPrSingh: Even, No government representatives comes to even meet when he was alive. The legend who challenged Einstein's theory of…\n",
      "2019-11-14 16:50:44\n",
      "6\n",
      "anil goswami\n",
      "New Delhi, Delhi\n",
      "en\n",
      "recent\n",
      "Twitter for Android\n",
      "\n",
      "@SaddickAdams I’m not expecting anything from these black stars players,they will alway take us back to the mathema… https://t.co/ldDr81ct97\n",
      "2019-11-14 16:50:36\n",
      "0\n",
      "Sarkcess\n",
      "Lebanon Pennsylvania \n",
      "en\n",
      "recent\n",
      "Twitter for iPhone\n",
      "\n",
      "Not only are our students great at algebra... they're also experts at building a supportive learning environment! O… https://t.co/8zhnSGhqGl\n",
      "2019-11-14 16:50:22\n",
      "0\n",
      "HalcyonLondonIntlSch\n",
      "London\n",
      "en\n",
      "recent\n",
      "Twitter Web App\n",
      "\n",
      "RT @Vikram_IAF: Mathematics Genius\n",
      "Sir V N Singh, people may not know him. But he refused \n",
      "MIT\n",
      "Harvrad\n",
      "Yale to show his love for India.\n",
      "Thi…\n",
      "2019-11-14 16:50:06\n",
      "4\n",
      "Manish Upreti\n",
      "\n",
      "en\n",
      "recent\n",
      "Twitter for Android\n",
      "\n"
     ]
    }
   ],
   "source": [
    "search = tweepy.Cursor(api.search, q=\"mathematics\", lang=\"en\").items(5)\n",
    "for item in search:    \n",
    "    # print tweet text\n",
    "    print (item.text)\n",
    "    \n",
    "    # print tweet created date \n",
    "    print (item.created_at)\n",
    "    \n",
    "    # print retweet count of the tweet\n",
    "    print (item.retweet_count)\n",
    "    \n",
    "    # print the username who published the tweet\n",
    "    print (item.user.name)\n",
    "    \n",
    "    # print the location of the user who published the tweet\n",
    "    print (item.user.location)\n",
    "    \n",
    "    # print the language code of the tweet\n",
    "    print (item.metadata['iso_language_code'])\n",
    "    \n",
    "    # print the search result type\n",
    "    print (item.metadata['result_type'])\n",
    "    \n",
    "    # print the device/source from which the tweet has been published\n",
    "    # e.g. Twitter for Android, Twitter for iPhone, Twitter Web Client, etc.\n",
    "    print (item.source)\n",
    "    \n",
    "    print()"
   ]
  },
  {
   "cell_type": "code",
   "execution_count": null,
   "metadata": {},
   "outputs": [],
   "source": []
  }
 ],
 "metadata": {
  "kernelspec": {
   "display_name": "Python 3",
   "language": "python",
   "name": "python3"
  },
  "language_info": {
   "codemirror_mode": {
    "name": "ipython",
    "version": 3
   },
   "file_extension": ".py",
   "mimetype": "text/x-python",
   "name": "python",
   "nbconvert_exporter": "python",
   "pygments_lexer": "ipython3",
   "version": "3.7.3"
  }
 },
 "nbformat": 4,
 "nbformat_minor": 2
}
